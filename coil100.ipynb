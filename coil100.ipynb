{
 "metadata": {
  "name": ""
 },
 "nbformat": 3,
 "nbformat_minor": 0,
 "worksheets": [
  {
   "cells": [
    {
     "cell_type": "code",
     "collapsed": false,
     "input": [
      "import numpy as np\n",
      "import coil100aux\n",
      "import coil100vars\n",
      "\n",
      "COIL100_PATH = './coil-100/*.png'\n",
      "COIL100_BINS = 32\n",
      "COIL100_CODEBOOK_SIZE = 200\n",
      "\n",
      "\n",
      "coil100aux.load_imgs(COIL100_PATH) # read images into coil100aux.imgs\n",
      "coil100aux.calc_histograms(COIL100_BINS) # append histograms\n",
      "coil100aux.build_codebooks(COIL100_CODEBOOK_SIZE, 'kmeans')\n",
      "coil100aux.coding_and_pooling()"
     ],
     "language": "python",
     "metadata": {},
     "outputs": [],
     "prompt_number": 1
    },
    {
     "cell_type": "code",
     "collapsed": false,
     "input": [
      "proximity_by = 'ed' # \"ed\"=Euclidean; \"md\"=Manhattan\n",
      "coding_kind = 4 # 1 for hist, 2 for pixels, 3 for rgb, and 4 for rgb_hist codewords\n",
      "query_img_index = np.random.randint(len(coil100vars.imgs)) # random query\n",
      "print('Query: %s' % (query_img_index))\n",
      "results_imgs_indexes = coil100aux.search_query(coil100vars.imgs, coil100vars.imgs[query_img_index], proximity_by, 20, coding_kind)\n",
      "coil100aux.print_all(query_img_index, results_imgs_indexes[0])"
     ],
     "language": "python",
     "metadata": {},
     "outputs": [],
     "prompt_number": "*"
    },
    {
     "cell_type": "code",
     "collapsed": false,
     "input": [],
     "language": "python",
     "metadata": {},
     "outputs": [],
     "prompt_number": 14
    },
    {
     "cell_type": "code",
     "collapsed": false,
     "input": [],
     "language": "python",
     "metadata": {},
     "outputs": []
    }
   ],
   "metadata": {}
  }
 ]
}